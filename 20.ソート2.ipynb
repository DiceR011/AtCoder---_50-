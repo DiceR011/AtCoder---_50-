{
 "cells": [
  {
   "cell_type": "markdown",
   "metadata": {},
   "source": [
    "# 20.ソート2"
   ]
  },
  {
   "cell_type": "markdown",
   "metadata": {},
   "source": [
    "### ABC209 Dif:285\n",
    "url : https://atcoder.jp/contests/abc209/tasks/abc209_c\n",
    "\n",
    "### [概要]\n",
    "本問はソートの応用問題。  \n",
    "数列問題はソートでなんとかなることが多い。  \n",
    "ソートしても答えに影響しないなら一度ソートしてみてどうなるかと考えよう。  \n",
    "\n",
    "### [解説]\n",
    "実装に合わせて0インデックスで説明する。  \n",
    "すなわちA1=A[0],A2=A[1],...となる。  \n",
    "Cはソートしても答えに影響はない。  \n",
    "Cを小さい順に並べるとAiとしてありうるのは(Ci-i)であることがわかる。  \n",
    "よってi=0,1,2,…について(Ci-i)を掛け算していく。ただし、途中で(Ci-i)=0になったら「0」  \n",
    "を出力して終了。  \n",
    "(10^9+7)で割ったあまりをとることを忘れないように注意しよう。  \n",
    "例はキンドル参照\n",
    "\n",
    "### [実装のコツ]\n",
    "<余りをとる>  \n",
    "「(10^9+7)(大きな素数)で割ったあまりを出力してください」というような問題はよく出題される。  \n",
    "気を付けるべきなのは答えの出力直前にあまりをとるのではなく、計算の都度あまりをとること。  \n",
    "途中の計算で大きすぎる数の計算が発生するとTLEしてしまうおそれがある。  \n",
    "本問であれば(C[i]-i)を掛け算する都度あまりをとるようにする。"
   ]
  },
  {
   "cell_type": "code",
   "execution_count": 5,
   "metadata": {},
   "outputs": [
    {
     "ename": "TypeError",
     "evalue": "type 'range' is not subscriptable",
     "output_type": "error",
     "traceback": [
      "\u001b[1;31m---------------------------------------------------------------------------\u001b[0m",
      "\u001b[1;31mTypeError\u001b[0m                                 Traceback (most recent call last)",
      "Cell \u001b[1;32mIn[5], line 12\u001b[0m\n\u001b[0;32m      9\u001b[0m ans \u001b[38;5;241m=\u001b[39m \u001b[38;5;241m1\u001b[39m\n\u001b[0;32m     11\u001b[0m \u001b[38;5;66;03m#小さい順に並べると、大きいほうに行くにつれて選べる数値は(C[i]-i)となる。\u001b[39;00m\n\u001b[1;32m---> 12\u001b[0m \u001b[38;5;28;01mfor\u001b[39;00m i \u001b[38;5;129;01min\u001b[39;00m \u001b[38;5;28;43mrange\u001b[39;49m\u001b[43m[\u001b[49m\u001b[43mN\u001b[49m\u001b[43m]\u001b[49m:\n\u001b[0;32m     13\u001b[0m     \u001b[38;5;66;03m#もし、C[i]-i = 0ならば\u001b[39;00m\n\u001b[0;32m     14\u001b[0m     \u001b[38;5;28;01mif\u001b[39;00m C[i] \u001b[38;5;241m-\u001b[39m i \u001b[38;5;241m==\u001b[39m \u001b[38;5;241m0\u001b[39m:\n\u001b[0;32m     15\u001b[0m         \u001b[38;5;28mprint\u001b[39m(\u001b[38;5;241m0\u001b[39m)\n",
      "\u001b[1;31mTypeError\u001b[0m: type 'range' is not subscriptable"
     ]
    }
   ],
   "source": [
    "#入力受け取り\n",
    "N = int(input())\n",
    "C = list(map(int,input().split()))\n",
    "\n",
    "#Cのリストをソートする\n",
    "C.sort()\n",
    "\n",
    "#解答\n",
    "ans = 1\n",
    "\n",
    "#小さい順に並べると、大きいほうに行くにつれて選べる数値は(C[i]-i)となる。\n",
    "for i in range(N):\n",
    "    #もし、C[i]-i = 0ならば\n",
    "    if C[i] - i == 0:\n",
    "        print(0)\n",
    "        exit()\n",
    "    ans *= (C[i]-i)\n",
    "    #余りを都度計算する\n",
    "    ans %= (10**9 +7)\n",
    "\n",
    "print(ans)\n",
    "\n",
    "\n"
   ]
  }
 ],
 "metadata": {
  "kernelspec": {
   "display_name": "Python 3",
   "language": "python",
   "name": "python3"
  },
  "language_info": {
   "codemirror_mode": {
    "name": "ipython",
    "version": 3
   },
   "file_extension": ".py",
   "mimetype": "text/x-python",
   "name": "python",
   "nbconvert_exporter": "python",
   "pygments_lexer": "ipython3",
   "version": "3.12.3"
  }
 },
 "nbformat": 4,
 "nbformat_minor": 2
}
