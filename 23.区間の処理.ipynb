{
 "cells": [
  {
   "cell_type": "markdown",
   "metadata": {},
   "source": [
    "# 23.区間の処理"
   ]
  },
  {
   "cell_type": "markdown",
   "metadata": {},
   "source": [
    "### ABC207 C Dif:397\n",
    "url : https://atcoder.jp/contests/abc207/tasks/abc207_c\n",
    "\n",
    "### [概要]\n",
    "閉区間、開区間を処理する問題はよく出題される。整数の開区間は閉区間にしてしまえば簡単になる、と覚えておこう。 \n",
    "### [解説]\n",
    "開区間と閉区間が混在するとややこしい。  \n",
    "まずは開区間を閉区間になおす。  \n",
    "本問の入力は整数のみなので  \n",
    "(l,r)→[l+0.1,r-0.1]  \n",
    "と考えてもよい。\n",
    "\n",
    "~例~  \n",
    "$$(1,5)→[1+0.1,5-0.1]→[1.1,4.9]$$\n",
    "次に2つの区間が共通部分を持つか？をどう判定するかだが、これは一方の右端か左端が他方の区間内にあるか確認すれば良い。  \n",
    "~例~  \n",
    "区間i[1.1,5]  \n",
    "区間j[2.1,6.9]  \n",
    "について  \n",
    "(区間iの左端)≤(区間jの左端)≤(区間iの右端)  \n",
    "⇔1.1≤2.1≤5  \n",
    "⇔共通区間を持つ  \n",
    "制約は1≤N≤2000だからNが最大のケースでも組み合わせの数は2000C2=1999000≒10^6となり、全組探索してもなんとか間に合う。   \n",
    "全組探索するには二重ループを使う。\n",
    " "
   ]
  },
  {
   "cell_type": "code",
   "execution_count": 2,
   "metadata": {},
   "outputs": [
    {
     "name": "stdout",
     "output_type": "stream",
     "text": [
      "7\n"
     ]
    }
   ],
   "source": [
    "#入力の受け取り\n",
    "N = int(input())\n",
    "\n",
    "#区間の格納リスト\n",
    "section=[]\n",
    "\n",
    "#N回\n",
    "for i in range(N):\n",
    "    #入力受け取り\n",
    "    t,l,r = map(int, input().split())\n",
    "    if t == 1:\n",
    "        section.append([l,r])\n",
    "    elif t == 2:\n",
    "        section.append([l,r-0.1])\n",
    "    elif t == 3:\n",
    "        section.append([l+0.1, r])\n",
    "    else:\n",
    "        section.append([l+0.1,r-0.1])\n",
    "\n",
    "#答えの格納用変数\n",
    "ans = 0\n",
    "\n",
    "#i=0~(N-1)まで\n",
    "for i in range(N):\n",
    "    for j in range(i+1, N):\n",
    "        # 区間iの左端\n",
    "        il=section[i][0]\n",
    "        # 区間iの右端\n",
    "        ir=section[i][1]\n",
    "        # 区間jの左端\n",
    "        jl=section[j][0]\n",
    "        # 区間jの右端\n",
    "        jr=section[j][1]\n",
    "        # (区間iの左端)≤(区間jの左端)≤(区間iの右端)\n",
    "        if il<=jl<=ir:\n",
    "            # 答えにカウント\n",
    "            ans+=1\n",
    "        # (区間iの左端)≤(区間jの右端)≤(区間iの右端)\n",
    "        elif il<=jr<=ir:\n",
    "            # 答えにカウント\n",
    "            ans+=1        \n",
    "        # (区間jの左端)≤(区間iの左端)≤(区間jの右端)\n",
    "        elif jl<=il<=jr:\n",
    "            # 答えにカウント\n",
    "            ans+=1        \n",
    "        # (区間jの左端)≤(区間iの右端)≤(区間jの右端)\n",
    "        elif jl<=ir<=jr:\n",
    "            # 答えにカウント\n",
    "            ans+=1\n",
    "\n",
    "#答えの出力\n",
    "print(ans)"
   ]
  }
 ],
 "metadata": {
  "kernelspec": {
   "display_name": "Python 3",
   "language": "python",
   "name": "python3"
  },
  "language_info": {
   "codemirror_mode": {
    "name": "ipython",
    "version": 3
   },
   "file_extension": ".py",
   "mimetype": "text/x-python",
   "name": "python",
   "nbconvert_exporter": "python",
   "pygments_lexer": "ipython3",
   "version": "3.12.3"
  }
 },
 "nbformat": 4,
 "nbformat_minor": 2
}
