{
 "cells": [
  {
   "cell_type": "markdown",
   "metadata": {},
   "source": [
    "# 26.deque"
   ]
  },
  {
   "cell_type": "markdown",
   "metadata": {},
   "source": [
    "### ABC237 Dif:544\n",
    "url : https://atcoder.jp/contests/abc237/tasks/abc237_d\n",
    "\n",
    "### [概要]\n",
    "dequeはリストを拡張したようなデータ構造で、先頭への要素追加、取り出しを高速で行うことが  \n",
    "できる。この後に学んでいくBFS等のアルゴリズムで使う他、deque自体を知らないと解けないと  \n",
    "いう問題もある。この問題で基礎的な使い方を覚えよう。  \n",
    "### [解説]\n",
    "dequeを使えば左右両端への値の追加をO(1)で行える。しかし両端以外への要素追加は要素  \n",
    "数をNとしてO(N)かかるから問題文の手順そのままに追加することはできない。  \n",
    "N,N-1,N-2,...と逆順で処理することで常に両端どちらかへの要素追加のみでAを作ることができ  \n",
    "るということがわかる。逆から処理するため「L」「R」は逆側への追加になることに注意。  \n",
    "\n",
    "### [実装のコツ]\n",
    "#### deque\n",
    "dequeはリストのようなものだが、左端から要素を取り出す操作がO(1)でできる。  \n",
    "※リストを使ってしまうとこの操作がO(N)かかるのでTLEする。  \n",
    "\n",
    "dequeはライブラリcollectionsからインポートして使う。\n",
    "「使い方」\n",
    "\n",
    "- インポート：from collections import deque\n",
    "- 作成：変数名=deque()\n",
    "- 先頭(左端)に要素追加【O(1)】：変数名.appendleft(要素)\n",
    "- 末尾(右端)に要素追加【O(1)】：変数名.append(要素)\n",
    "- 先頭(左端)から要素を取り出して削除【O(1)】：変数名.popleft()\n",
    "- 末尾(右端)から要素を取り出して削除【O(1)】：変数名.pop()\n",
    "下のセルで使用例を出す"
   ]
  },
  {
   "cell_type": "code",
   "execution_count": null,
   "metadata": {},
   "outputs": [],
   "source": [
    "# インポート：from collections import deque\n",
    "from collections import deque\n",
    "\n",
    "# 作成：変数名=deque()\n",
    "que=deque()\n",
    "\n",
    "# 先頭(左端)に要素追加【O(1)】：変数名.appendleft(要素)\n",
    "que.appendleft(1)\n",
    "\n",
    "# 末尾(右端)に要素追加【O(1)】：変数名.append(要素)\n",
    "que.append(3)\n",
    "\n",
    "# 先頭(左端)から要素を取り出して削除【O(1)】：変数名.popleft()\n",
    "x=que.popleft()\n",
    "\n",
    "# 末尾(右端)から要素を取り出して削除【O(1)】：変数名.pop()\n",
    "y=que.pop()"
   ]
  },
  {
   "cell_type": "markdown",
   "metadata": {},
   "source": [
    "#### for文で大きい順に処理\n",
    "for文で大きい順に処理するときは以下のように書く。\n",
    "for i in range(最初,最後-1,一回ごとに減らす量)\n",
    "\n",
    "本問の場合はSの末尾から「L」か「R」か確認するから、以下のようになる。\n",
    "\n",
    "```\n",
    "# i=(N-1)~0 -1ずつ\n",
    "for i in range(N-1,-1,-1):\n",
    "    # Sのi文字目が「R｣\n",
    "    if S[i]==\"R\":\n",
    "    # 先頭(左端)へ「i」を追加\n",
    "    que.appendleft(i)\n",
    "    # そうでない場合(Sのi文字目が「L」)\n",
    "    else:\n",
    "    # 末端(右端)へ「i」を追加\n",
    "    que.append(i)\n",
    "```\n",
    "\n",
    "#### リストのかっこを外して出力\n",
    "print(*リスト)とすることでリストの内容を[]なしで表示できる。"
   ]
  },
  {
   "cell_type": "code",
   "execution_count": 1,
   "metadata": {},
   "outputs": [
    {
     "ename": "ValueError",
     "evalue": "invalid literal for int() with base 10: ''",
     "output_type": "error",
     "traceback": [
      "\u001b[1;31m---------------------------------------------------------------------------\u001b[0m",
      "\u001b[1;31mValueError\u001b[0m                                Traceback (most recent call last)",
      "Cell \u001b[1;32mIn[1], line 2\u001b[0m\n\u001b[0;32m      1\u001b[0m \u001b[38;5;66;03m#入力\u001b[39;00m\n\u001b[1;32m----> 2\u001b[0m N \u001b[38;5;241m=\u001b[39m \u001b[38;5;28;43mint\u001b[39;49m\u001b[43m(\u001b[49m\u001b[38;5;28;43minput\u001b[39;49m\u001b[43m(\u001b[49m\u001b[43m)\u001b[49m\u001b[43m)\u001b[49m\n\u001b[0;32m      3\u001b[0m S \u001b[38;5;241m=\u001b[39m \u001b[38;5;28minput\u001b[39m()\n\u001b[0;32m      5\u001b[0m \u001b[38;5;66;03m#逆順の操作で左右に値を追加していくリストを作る。\u001b[39;00m\n",
      "\u001b[1;31mValueError\u001b[0m: invalid literal for int() with base 10: ''"
     ]
    }
   ],
   "source": [
    "#入力\n",
    "N = int(input())\n",
    "S = input()\n",
    "\n",
    "#逆順の操作で左右に値を追加していくリストを作る。\n",
    "from collections import deque\n",
    "que = deque()\n",
    "que.append(N)\n",
    "for i in range(N-1,-1,-1):\n",
    "    if S[i] == 'R':\n",
    "        que.appendleft(i)\n",
    "    else:\n",
    "        que.append(i)\n",
    "\n",
    "print(*que)"
   ]
  },
  {
   "cell_type": "code",
   "execution_count": 7,
   "metadata": {},
   "outputs": [
    {
     "name": "stdout",
     "output_type": "stream",
     "text": [
      "4\n",
      "3\n",
      "2\n",
      "1\n",
      "0\n"
     ]
    }
   ],
   "source": [
    "for i in range(5-1,-1,-1):\n",
    "    print(i)"
   ]
  }
 ],
 "metadata": {
  "kernelspec": {
   "display_name": "Python 3",
   "language": "python",
   "name": "python3"
  },
  "language_info": {
   "codemirror_mode": {
    "name": "ipython",
    "version": 3
   },
   "file_extension": ".py",
   "mimetype": "text/x-python",
   "name": "python",
   "nbconvert_exporter": "python",
   "pygments_lexer": "ipython3",
   "version": "3.12.3"
  }
 },
 "nbformat": 4,
 "nbformat_minor": 2
}
