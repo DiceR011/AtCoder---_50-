{
 "cells": [
  {
   "cell_type": "markdown",
   "metadata": {},
   "source": [
    "# 5.文字列の操作"
   ]
  },
  {
   "cell_type": "markdown",
   "metadata": {},
   "source": [
    "### ABC232 A Dif:9\n",
    "url : https://atcoder.jp/contests/abc232/tasks/abc232_a\n",
    "\n",
    "### [概要]\n",
    "文字列の使いかたを理解する。リストと同様にpythonではインデックスの先頭は0であることに注意しよう。\n",
    "\n",
    "### - 問題\n",
    "3 文字からなる文字列 \n",
    "S が与えられます。\n",
    "S は、\n",
    "1 以上 \n",
    "9 以下の整数 \n",
    "a,b と文字 x を、axb のように順につなげて得られます。  \n",
    "\n",
    "a と \n",
    "b の積を求めてください。\n",
    "\n",
    "### - 制約\n",
    "- Sの長さは3\n",
    "- Sの1文字目および3文字目は1以上9以下の整数を表す。\n",
    "- Sの2文字目はx\n",
    "\n",
    "### [解説]\n",
    "pythonでは、文字列のx文字目はS[x-1]で抽出できる(インデックスは0からなので)。  \n",
    "今回の問題では、S[0],S[2]を抽出し、かけ合わせればよい。  \n",
    "ただし、取り出した数字はstr型であるためint型に修正する必要がある。\n",
    "よって、コードは以下のようになる。"
   ]
  },
  {
   "cell_type": "code",
   "execution_count": 7,
   "metadata": {},
   "outputs": [
    {
     "ename": "ValueError",
     "evalue": "invalid literal for int() with base 10: '2x7'",
     "output_type": "error",
     "traceback": [
      "\u001b[1;31m---------------------------------------------------------------------------\u001b[0m",
      "\u001b[1;31mValueError\u001b[0m                                Traceback (most recent call last)",
      "Cell \u001b[1;32mIn[7], line 3\u001b[0m\n\u001b[0;32m      1\u001b[0m S \u001b[38;5;241m=\u001b[39m \u001b[38;5;28minput\u001b[39m()\n\u001b[0;32m      2\u001b[0m S\u001b[38;5;241m.\u001b[39mreplace(\u001b[38;5;124m'\u001b[39m\u001b[38;5;124mx\u001b[39m\u001b[38;5;124m'\u001b[39m, \u001b[38;5;124m'\u001b[39m\u001b[38;5;124m*\u001b[39m\u001b[38;5;124m'\u001b[39m)\n\u001b[1;32m----> 3\u001b[0m \u001b[38;5;28mprint\u001b[39m(\u001b[38;5;28;43mint\u001b[39;49m\u001b[43m(\u001b[49m\u001b[43mS\u001b[49m\u001b[43m)\u001b[49m)\n",
      "\u001b[1;31mValueError\u001b[0m: invalid literal for int() with base 10: '2x7'"
     ]
    }
   ],
   "source": [
    "#Sを入力\n",
    "S = input()\n",
    "#Sの0文字目と2文字目をint型へ変換\n",
    "S0 = int(S[0])\n",
    "S2 = int(S[2])\n",
    "\n",
    "#掛け算して出力\n",
    "print(S0*S2)"
   ]
  }
 ],
 "metadata": {
  "kernelspec": {
   "display_name": "Python 3",
   "language": "python",
   "name": "python3"
  },
  "language_info": {
   "codemirror_mode": {
    "name": "ipython",
    "version": 3
   },
   "file_extension": ".py",
   "mimetype": "text/x-python",
   "name": "python",
   "nbconvert_exporter": "python",
   "pygments_lexer": "ipython3",
   "version": "3.12.3"
  }
 },
 "nbformat": 4,
 "nbformat_minor": 2
}
