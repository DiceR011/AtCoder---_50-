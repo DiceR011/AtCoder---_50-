{
 "cells": [
  {
   "cell_type": "markdown",
   "metadata": {},
   "source": [
    "# 11.二重ループ"
   ]
  },
  {
   "cell_type": "markdown",
   "metadata": {},
   "source": [
    "### ABC234 B Dif:46\n",
    "### [概要]\n",
    "二重ループはすべての組み合わせを列挙、処理でよく使うテクニック。これでほとんどのB問題が解けるようになる。C問題以降でもよく使う書き方なので、理解しよう。ただし、計算量が多いとTLEが発生するので使う際は計算量を意識しよう。\n",
    "\n",
    "### [解説]\n",
    "考えうるすべての点の組について線分の長さを計算していく。\n",
    "2点(x1,y1),(x2,y2)における線分の長さは\n",
    "\n",
    "√((x1-x2)^2+(y1-y2^2))\n",
    "と計算する。\n",
    "\n",
    "### [実装のコツ]\n",
    "**<ルートの計算>**\n",
    "ルートを計算するにはmathライブラリの **sqrt(squareroot)** を用いる。  \n",
    "まず、mathライブラリをimportする。\n",
    "\n",
    "```\n",
    "import math\n",
    "```\n",
    "\n",
    "これを書いた後に\n",
    "\n",
    "```\n",
    "math.sqrt(数字)\n",
    "```\n",
    "\n",
    "と書くことで(数字)のルートを求めることができる。\n",
    "\n",
    "**<二重ループ>**\n",
    "forの中にもう一つforを入れることを「二重ループ」という。"
   ]
  },
  {
   "cell_type": "code",
   "execution_count": 1,
   "metadata": {},
   "outputs": [
    {
     "ename": "TypeError",
     "evalue": "'>' not supported between instances of 'NoneType' and 'NoneType'",
     "output_type": "error",
     "traceback": [
      "\u001b[1;31m---------------------------------------------------------------------------\u001b[0m",
      "\u001b[1;31mTypeError\u001b[0m                                 Traceback (most recent call last)",
      "Cell \u001b[1;32mIn[1], line 26\u001b[0m\n\u001b[0;32m     23\u001b[0m     \u001b[38;5;28;01mfor\u001b[39;00m j \u001b[38;5;129;01min\u001b[39;00m \u001b[38;5;28mrange\u001b[39m(i\u001b[38;5;241m+\u001b[39m\u001b[38;5;241m1\u001b[39m, N):\n\u001b[0;32m     24\u001b[0m         nagasa\u001b[38;5;241m.\u001b[39mappend(length(x[i], x[j], y[i], y[j]))\n\u001b[1;32m---> 26\u001b[0m \u001b[38;5;28mprint\u001b[39m(\u001b[38;5;28;43mmax\u001b[39;49m\u001b[43m(\u001b[49m\u001b[43mnagasa\u001b[49m\u001b[43m)\u001b[49m)\n",
      "\u001b[1;31mTypeError\u001b[0m: '>' not supported between instances of 'NoneType' and 'NoneType'"
     ]
    }
   ],
   "source": [
    "#mathライブラリのインポート\n",
    "import math\n",
    "\n",
    "#二点を結ぶ線の長さを求める関数を定義\n",
    "def length(x1, x2, y1, y2):\n",
    "    return math.sqrt((x1 - x2)**2 + (y1 - y2)**2)\n",
    "\n",
    "N = int(input())\n",
    "#座標格納\n",
    "x = list()\n",
    "y = list()\n",
    "\n",
    "for _ in range(N):\n",
    "    xi, yi = map(int,input().split())\n",
    "    x.append(xi)\n",
    "    y.append(yi)\n",
    "\n",
    "#長さを格納するリスト\n",
    "nagasa = list()\n",
    "\n",
    "#すべての2点での長さを計算する。\n",
    "for i in range(N):\n",
    "    for j in range(i+1, N):\n",
    "        nagasa.append(length(x[i], x[j], y[i], y[j]))\n",
    "\n",
    "#最大の長さを出力\n",
    "print(max(nagasa))"
   ]
  }
 ],
 "metadata": {
  "kernelspec": {
   "display_name": "Python 3",
   "language": "python",
   "name": "python3"
  },
  "language_info": {
   "codemirror_mode": {
    "name": "ipython",
    "version": 3
   },
   "file_extension": ".py",
   "mimetype": "text/x-python",
   "name": "python",
   "nbconvert_exporter": "python",
   "pygments_lexer": "ipython3",
   "version": "3.12.3"
  }
 },
 "nbformat": 4,
 "nbformat_minor": 2
}
