{
 "cells": [
  {
   "cell_type": "markdown",
   "metadata": {},
   "source": [
    "# 4.for文"
   ]
  },
  {
   "cell_type": "markdown",
   "metadata": {},
   "source": [
    "### ABC204 B Dif:9\n",
    "#### [概要]\n",
    "「for」は繰り返し処理であり、マスターすればたいていのB問題は解けるようになります。  \n",
    "頑張って使えるようになりましょう。\n",
    "\n",
    "#### - 問題\n",
    "N 本の木があり、 \n",
    "i 番目の木には \n",
    "A \n",
    "i\n",
    "​\n",
    "  個の木の実が実っています。\n",
    "\n",
    "シマリスは、次のルールで全ての木から木の実を収穫します。\n",
    "\n",
    "- 実っている木の実が 10 個以下の木からは木の実を収穫しない\n",
    "- 実っている木の実が 10 個より多い木からは、10 個を残して残りの全てを収穫する  \n",
    "\n",
    "シマリスが収穫する木の実の個数の合計を求めてください。\n",
    "\n",
    "#### - 制約\n",
    "- 1≤N≤1000\n",
    "- 0≤A \n",
    "i\n",
    "​\n",
    " ≤1000\n",
    "- 入力に含まれる値は全て整数である\n",
    "\n",
    "#### [解説]\n",
    "- リストの使い方\n",
    "\n",
    "リストは複数の数値や文字列を格納できるデータ型である。  \n",
    "リストの構造は以下のようになっている。  \n",
    "\n",
    "```\n",
    "A = [A1, A2, ~ ,AN]\n",
    "```\n",
    "\n",
    "pythonのリスト型はインデックス[] を参照してリストからデータをとってくる。  \n",
    "インデックスは0から始まるので、\n",
    "\n",
    "```\n",
    "A1 = A[0]\n",
    "A2 = A[1]\n",
    "…\n",
    "AN = A[N-1]\n",
    "```\n",
    "のようになる。問題文では**A1,A2~AN** だが、リストのインデックスは**A[N-1]** なので注意しよう！\n",
    "\n",
    "- for文の使い方\n",
    "\n",
    "i=0~(N-1)まで順に処理したい場合、以下のように表記する。\n",
    "\n",
    "```\n",
    "for i in range(N):\n",
    "```\n",
    "\n",
    "では実際に問題を解いてみよう。\n",
    "\n",
    "\n"
   ]
  },
  {
   "cell_type": "code",
   "execution_count": 3,
   "metadata": {},
   "outputs": [
    {
     "name": "stdout",
     "output_type": "stream",
     "text": [
      "-4\n"
     ]
    }
   ],
   "source": [
    "#Nの値を入力\n",
    "N = int(input())\n",
    "#それぞれの木になる木の実の数を入力\n",
    "A = list(map(int, input().split()))\n",
    "#木の実を数えるための変数n\n",
    "n = 0\n",
    "\n",
    "#1本目から順に木の実の数を参照\n",
    "for i in range(N):\n",
    "    #10個より多い場合、A[i]-10個収穫\n",
    "    if(A[i] > 10):\n",
    "        n += (A[i]-10)\n",
    "    #10個より少ない場合、は収穫しない\n",
    "    else:\n",
    "        continue\n",
    "    \n",
    "print(n)\n"
   ]
  }
 ],
 "metadata": {
  "kernelspec": {
   "display_name": "Python 3",
   "language": "python",
   "name": "python3"
  },
  "language_info": {
   "codemirror_mode": {
    "name": "ipython",
    "version": 3
   },
   "file_extension": ".py",
   "mimetype": "text/x-python",
   "name": "python",
   "nbconvert_exporter": "python",
   "pygments_lexer": "ipython3",
   "version": "3.12.3"
  }
 },
 "nbformat": 4,
 "nbformat_minor": 2
}
