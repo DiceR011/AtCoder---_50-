{
 "cells": [
  {
   "cell_type": "markdown",
   "metadata": {},
   "source": [
    "# 27.DP1"
   ]
  },
  {
   "cell_type": "markdown",
   "metadata": {},
   "source": [
    "### ABC211 C Dif:559\n",
    "url : https://atcoder.jp/contests/abc211/tasks/abc211_c\n",
    "\n",
    "### [概要]\n",
    "DPはDynamic Programmingの略で日本語では「動的計画法」と言う。  \n",
    "茶色コーダーになった人の多くが躓くのがこのDP。公式解説ではだいたいの場合初期値と漸化  \n",
    "式しか書いていないのでかなり難しく思えるかもしれないが、やっていることを一つ一つ段階を踏  \n",
    "んで理解すればどんな人でも必ず解けるようになる。  \n",
    "本問は「部分列DP」と呼ばれる典型。  DP問題はとにかく数をこなすことが大切。本書ではDP問題を簡単なものから難しいものまで4問  \n",
    "抜き出している。まずはこの問題でDPの基礎、考え方を身に着けよう。  \n",
    "\n",
    "### [解説]\n",
    "DPを使う。  \n",
    "「DP(Dynamic Programning(動的計画法))」  \n",
    "「ある状態までの解がわかっていれば次の状態の解もわかる｣という関係を利用して、順々に解  \n",
    "を計算し、答えを出す方法。  \n",
    "\n",
    "【ゆっくり解説】DP(動的計画法)解説 EDPC D 【競技プログラミング】:\n",
    "https://www.youtube.com/watch?v=gVJ16ThsJYs\n",
    "\n",
    "具体的な手順は以下。  \n",
    "(1)表を作る  \n",
    "(2)すぐにわかるところを埋める  \n",
    "(3)表の小さい方から答えにたどり着くまで埋める  \n",
    "(4)答えを出力する  \n",
    "本問で作る表は以下。  \n",
    "dp[i][k]：「Sのi文字目までを使って、chokudaiのk文字目までを作る方法の数」  \n",
    "\n",
    "以下の漸化式が成り立つ。(N：Sの文字数)  \n",
    "・1≤i≤N,k=0  \n",
    "dp[i][k]=1  \n",
    "・i=0,1≤k≤8  \n",
    "dp[i][k]=0  \n",
    "・1≤i≤N,1≤k≤8,Sのi文字目=chokudaiのk文字目の場合  \n",
    "dp[i][k]=dp[i-1][k]+dp[i-1][k-1]  \n",
    "・1≤i≤N,1≤k≤8,Sのi文字目≠chokudaiのk文字目の場合  \n",
    "dp[i][k]=dp[i-1][k]  \n",
    "dp[N][8]が答え。  \n",
    "\n",
    "\n",
    "### [実装のコツ]\n",
    "#### 0文字目を埋めておく\n",
    "普通にSを受け取るとSの1文字目がS[0]になってしまい面倒。適当に「？」等の文字を埋めておく  \n",
    "と良い。「chokudai」のほうも同様。  \n",
    "\n",
    "#### 表を作る\n",
    "表は二次元配列と考える。  \n",
    "二次元配列の作り方は以下のようにする。\n",
    "\n",
    "```\n",
    "dp=[[0]*9 for i in range(N+1)]\n",
    "```\n",
    "\n",
    "#### 余りをとる\n",
    "「(10^9+7)(大きな素数)で割った余りを出力してください」というような問題はよく出題される。  \n",
    "気をつけるべきなのは答えの出力直前に余りを取るのではなくて、計算の都度余りを取るということ。  \n",
    "途中の計算で大きすぎる数の計算が発生するとTLEしてしまう恐れがある。  \n",
    "本問であればdp[i][k]計算の都度余りをとるようにする  "
   ]
  },
  {
   "cell_type": "code",
   "execution_count": 1,
   "metadata": {},
   "outputs": [
    {
     "name": "stdout",
     "output_type": "stream",
     "text": [
      "0\n"
     ]
    }
   ],
   "source": [
    "# 入力の受け取り\n",
    "S=input()\n",
    "# 文字数=N\n",
    "N=len(S)\n",
    "\n",
    "# Sの0文字目を?にする\n",
    "S=\"?\"+S\n",
    "# T=?chokudai(?は0文字目)\n",
    "T=\"?chokudai\"\n",
    "\n",
    "# 余りの定義\n",
    "mod=10**9+7\n",
    "\n",
    "# (1)表を作る\n",
    "dp=[[0]*9 for i in range(N+1)]\n",
    " \n",
    "# (2)すぐにわかるところを埋める\n",
    "# i=0~N\n",
    "for i in range(N+1):\n",
    "    # k=0\n",
    "    dp[i][0]=1\n",
    "\n",
    "# (3)表の小さい方から答えにたどり着くまで埋める\n",
    "# Sのi文字目までを使う\n",
    "for i in range(1,N+1):\n",
    "    # chokudaiのk文字目までを作る\n",
    "    for k in range(1,9):\n",
    "        # 1≤i≤N,1≤k≤8,Sのi文字目=chokudaiのk文字目の場合\n",
    "        if S[i]==T[k]:\n",
    "            # dp[i-1][k]：Sの(i-1)文字目までを使ってchokudaiのk文字目を作る場合(Sのi文字目を使わない)\n",
    "            # dp[i-1][k-1]：Sの(i-1)文字目までを使ってchokudaiの(k-1)文字目を作る場合(Sのi文字目を使う)\n",
    "            dp[i][k]=dp[i-1][k]+dp[i-1][k-1]\n",
    "\n",
    "        # 1≤i≤N,1≤k≤8,Sのi文字目≠chokudaiのk文字目の場合\n",
    "        else:\n",
    "            # dp[i-1][k-1]：Sの(i-1)文字目までを使ってchokudaiの(k-1)文字目を作る場合(Sのi文字目を使う)\n",
    "            dp[i][k]=dp[i-1][k]\n",
    "\n",
    "    # 余りを取る\n",
    "    dp[i][k]%=mod\n",
    "\n",
    "# SのN文字目までを使ってchokudaiの8文字目までを作る方法の数\n",
    "print(dp[N][8])\n",
    "\n"
   ]
  }
 ],
 "metadata": {
  "kernelspec": {
   "display_name": "Python 3",
   "language": "python",
   "name": "python3"
  },
  "language_info": {
   "codemirror_mode": {
    "name": "ipython",
    "version": 3
   },
   "file_extension": ".py",
   "mimetype": "text/x-python",
   "name": "python",
   "nbconvert_exporter": "python",
   "pygments_lexer": "ipython3",
   "version": "3.12.3"
  }
 },
 "nbformat": 4,
 "nbformat_minor": 2
}
