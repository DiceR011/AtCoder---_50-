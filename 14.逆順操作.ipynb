{
 "cells": [
  {
   "cell_type": "markdown",
   "metadata": {},
   "source": [
    "# 14.逆順操作"
   ]
  },
  {
   "cell_type": "markdown",
   "metadata": {},
   "source": [
    "### ABC216 C Dif : 145\n",
    "url : https://atcoder.jp/contests/abc216/tasks/abc216_c\n",
    "\n",
    "### [概要]\n",
    "普通にやると大変な操作でも終わりから考えると簡単になることはよくある。  \n",
    "発想の引き出しに「逆順で考える」を持っておこう。  \n",
    "\n",
    "### [解説]\n",
    "ボールがN個になった状態から逆算して操作を決定していく。"
   ]
  },
  {
   "cell_type": "code",
   "execution_count": 14,
   "metadata": {},
   "outputs": [
    {
     "name": "stdout",
     "output_type": "stream",
     "text": [
      "ABAB\n"
     ]
    }
   ],
   "source": [
    "#文字を逆順にする関数\n",
    "def s_reverse(S):\n",
    "    return S[::-1]\n",
    "#入力\n",
    "N = int(input())\n",
    "#操作手順を格納する変数\n",
    "log = ''\n",
    "#逆順操作で答えを求める。偶数ならB、奇数ならAの操作を行う。\n",
    "while N > 0:\n",
    "    if N % 2 == 0:\n",
    "        log += 'B'\n",
    "        N //= 2\n",
    "    else:\n",
    "        log += 'A'\n",
    "        N -= 1\n",
    "\n",
    "print(s_reverse(log))"
   ]
  }
 ],
 "metadata": {
  "kernelspec": {
   "display_name": "Python 3",
   "language": "python",
   "name": "python3"
  },
  "language_info": {
   "codemirror_mode": {
    "name": "ipython",
    "version": 3
   },
   "file_extension": ".py",
   "mimetype": "text/x-python",
   "name": "python",
   "nbconvert_exporter": "python",
   "pygments_lexer": "ipython3",
   "version": "3.12.3"
  }
 },
 "nbformat": 4,
 "nbformat_minor": 2
}
