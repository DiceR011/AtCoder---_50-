{
 "cells": [
  {
   "cell_type": "markdown",
   "metadata": {},
   "source": [
    "# 6.文字コード変換  "
   ]
  },
  {
   "cell_type": "markdown",
   "metadata": {},
   "source": [
    "### ABC218 B Dif:14\n",
    "url : 入力は全て整数である。\n",
    "### [概要]\n",
    "一つ前の文字を答える、k個先の文字に変換する等のテクニックが要求される問題はAtCoderではよく出題される。  \n",
    "このような問題は文字コードを知っていると楽にきれいなコードで実装できる。  \n",
    "### [解説]\n",
    "1 → A\n",
    "2 → B\n",
    "…\n",
    "26 → Z\n",
    "と変換できればよい。\n",
    "自分で関数を作ってしまうか、chr関数を使って変換することで解くことができる。\n",
    "chr関数は文字コードを参照し、文字を出力する関数である。\n",
    "'a' = 96\n",
    "'b' = 97\n",
    "…\n",
    "\n",
    "よって、chr(Pの値 + 96)とすれば対応する英語をとってくることが可能である。"
   ]
  },
  {
   "cell_type": "code",
   "execution_count": 1,
   "metadata": {},
   "outputs": [
    {
     "ename": "AttributeError",
     "evalue": "type object 'int' has no attribute 'input'",
     "output_type": "error",
     "traceback": [
      "\u001b[1;31m---------------------------------------------------------------------------\u001b[0m",
      "\u001b[1;31mAttributeError\u001b[0m                            Traceback (most recent call last)",
      "Cell \u001b[1;32mIn[1], line 2\u001b[0m\n\u001b[0;32m      1\u001b[0m \u001b[38;5;66;03m#入力の受け取り\u001b[39;00m\n\u001b[1;32m----> 2\u001b[0m P \u001b[38;5;241m=\u001b[39m \u001b[38;5;28mlist\u001b[39m[\u001b[38;5;28mmap\u001b[39m(\u001b[38;5;28;43mint\u001b[39;49m\u001b[38;5;241;43m.\u001b[39;49m\u001b[43minput\u001b[49m()\u001b[38;5;241m.\u001b[39msplit())]\n\u001b[0;32m      4\u001b[0m \u001b[38;5;66;03m#答えを格納する変数\u001b[39;00m\n\u001b[0;32m      5\u001b[0m ans \u001b[38;5;241m=\u001b[39m \u001b[38;5;124m'\u001b[39m\u001b[38;5;124m'\u001b[39m\n",
      "\u001b[1;31mAttributeError\u001b[0m: type object 'int' has no attribute 'input'"
     ]
    }
   ],
   "source": [
    "#入力の受け取り\n",
    "P = list(map(int,input().split()))\n",
    "\n",
    "#答えを格納する変数\n",
    "ans = ''\n",
    "\n",
    "#i = 0~25\n",
    "for i in range(26):\n",
    "    # 文字コード[P[i]+96]の文字をansの末尾に入力\n",
    "    ans += chr(P[i]+96)\n",
    "\n",
    "print(ans)"
   ]
  }
 ],
 "metadata": {
  "kernelspec": {
   "display_name": "Python 3",
   "language": "python",
   "name": "python3"
  },
  "language_info": {
   "codemirror_mode": {
    "name": "ipython",
    "version": 3
   },
   "file_extension": ".py",
   "mimetype": "text/x-python",
   "name": "python",
   "nbconvert_exporter": "python",
   "pygments_lexer": "ipython3",
   "version": "3.12.3"
  }
 },
 "nbformat": 4,
 "nbformat_minor": 2
}
