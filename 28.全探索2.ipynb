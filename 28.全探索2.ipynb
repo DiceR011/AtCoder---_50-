{
 "cells": [
  {
   "cell_type": "markdown",
   "metadata": {},
   "source": [
    "# 全探索2 "
   ]
  },
  {
   "cell_type": "markdown",
   "metadata": {},
   "source": [
    "### ABC233 C Dif:604\n",
    "url : https://atcoder.jp/contests/abc233/tasks/abc233_c\n",
    "\n",
    "### [概要]\n",
    "本問はジャンルとしては全探索であるのだが実装に工夫が必要なため、Difが高くなった問題。  \n",
    "全ての組み合わせを探索する実装方法を覚えよう。  \n",
    "\n",
    "### [解説]\n",
    "単純にすべての場合を試し、結果を記録して=Xになっているものの数を数える。  \n",
    "1番目の袋までの掛け算結果を記録  \n",
    "記録した全ての数と2番目の袋の中身全てとの掛け算結果を記録  \n",
    "記録した全ての数と3番目の袋の中身全てとの掛け算結果を記録  \n",
    "…  \n",
    "というように掛け算を行っていくことで全パターンの記録ができる  \n",
    "<br>\n",
    "～例～  \n",
    "N X：3 24  \n",
    "L1 a11 a12：2 2 3  \n",
    "L2 a21 a22 a23：3 2 4 6  \n",
    "L4 a31 a32：2 2 4  \n",
    "<br>\n",
    "まずP=[1]というリストを作る。ここに掛け算結果を記録していく。  \n",
    "「1番目の袋」  \n",
    "1番目の袋=[2,3]とP=[1]の全ての組み合わせについて計算を行う。  \n",
    "2*1=2  \n",
    "3*1=3  \n",
    "この結果でPを上書きする。  \n",
    "P=[2,3]  \n",
    "<br>\n",
    "「2番目の袋」  \n",
    "同様に2番目の袋=[2,4,6]とP=[2,3]の全ての組み合わせについて計算を行う。  \n",
    "2*2=4  \n",
    "2*3=6  \n",
    "4*2=8  \n",
    "4*3=12  \n",
    "6*2=12  \n",
    "6*3=18  \n",
    "この結果でPを上書きする。  \n",
    "P=[4,6,8,12,12,18]  \n",
    "<br>\n",
    "「3番目の袋」  \n",
    "同様に3番目の袋=[2,4]とP=P=[4,6,8,12,12,18]の全ての組み合わせについて計算を行う。  \n",
    "2*4=8  \n",
    "2*6=12  \n",
    "2*8=16  \n",
    "2*12=24  \n",
    "2*12=24  \n",
    "2*18=36  \n",
    "4*4=16  \n",
    "4*6=24  \n",
    "4*8=32  \n",
    "4*12=48  \n",
    "4*12=48  \n",
    "4*18=72  \n",
    "この結果でPを上書きする。  \n",
    "P=[8, 12, 16, 24, 24, 36, 16, 24, 32, 48, 48, 72]  \n",
    "<br>\n",
    "これでPに全ての場合の結果が格納できた。  \n",
    "X=24となっているのはPに3個あるから答えは3個。  \n",
    "\n",
    "### [実装のコツ]\n",
    "<for X in (リスト)>  \n",
    "for X in (リスト)と書くことで(リスト)の要素を順にXへ格納しながら処理ができる。  \n",
    "便利な書き方なので是非覚えてほしい。  "
   ]
  },
  {
   "cell_type": "code",
   "execution_count": 1,
   "metadata": {},
   "outputs": [
    {
     "name": "stdout",
     "output_type": "stream",
     "text": [
      "[3, 2]\n",
      "[[1, 8, 4], [10, 5]]\n"
     ]
    }
   ],
   "source": [
    "#入力\n",
    "N,X = list(map(int,input().split()))\n",
    "#L,aを格納するリストを作る。\n",
    "L = []\n",
    "a = []\n",
    "#L,aを別々に受け取る。\n",
    "for i in range(N):\n",
    "    La = list(map(int, input().split()))\n",
    "    L.append(La[0])\n",
    "    a.append(La[1:])\n",
    "#すべての組み合わせを格納するリスト\n",
    "all_seki_list = [1]\n",
    "\n",
    "#全探索\n",
    "for i in range(N):\n",
    "    seki_list = []\n",
    "    #aiに各袋の中のボールの値を代入\n",
    "    for ai in a[i]:\n",
    "        #ここまですべての掛け算結果\n",
    "        for s in all_seki_list:\n",
    "            seki_list.append(ai * s)\n",
    "    #all_seki_listをseki_listで更新\n",
    "    all_seki_list = seki_list\n",
    "\n",
    "#Xとなる組み合わせの数を数える\n",
    "ans = all_seki_list.count(X)\n",
    "\n",
    "#答えを出力\n",
    "print(ans)"
   ]
  }
 ],
 "metadata": {
  "kernelspec": {
   "display_name": "jupyter_note",
   "language": "python",
   "name": "python3"
  },
  "language_info": {
   "codemirror_mode": {
    "name": "ipython",
    "version": 3
   },
   "file_extension": ".py",
   "mimetype": "text/x-python",
   "name": "python",
   "nbconvert_exporter": "python",
   "pygments_lexer": "ipython3",
   "version": "3.12.3"
  }
 },
 "nbformat": 4,
 "nbformat_minor": 2
}
