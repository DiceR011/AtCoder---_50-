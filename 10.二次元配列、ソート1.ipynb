{
 "cells": [
  {
   "cell_type": "markdown",
   "metadata": {},
   "source": [
    "# 10.二次元配列、ソート1"
   ]
  },
  {
   "cell_type": "markdown",
   "metadata": {},
   "source": [
    "### ABC201 B Dif:32\n",
    "### [概要]\n",
    "二次元配列、ソート(並び替え)は競技プログラミング必須のテクニック。しっかり使いかたを覚えよう。\n",
    "\n",
    "### [解説]\n",
    "二次元配列(ダブルアンパッキング)の入力方法\n",
    "\n",
    "```\n",
    "リスト.append(リスト)\n",
    "```\n",
    "\n",
    "x番目のリストのy番目を取り出したい場合\n",
    "\n",
    "```\n",
    "リスト[x][y]\n",
    "```\n",
    "\n",
    "**二次元配列のソートについて**\n",
    "二次元配列において、ソートで参照されるのは先頭の要素であり、リストの順番には注意する必要がある。\n",
    "\n",
    "\n",
    "\n"
   ]
  },
  {
   "cell_type": "code",
   "execution_count": 1,
   "metadata": {},
   "outputs": [
    {
     "ename": "AttributeError",
     "evalue": "type object 'str' has no attribute 'input'",
     "output_type": "error",
     "traceback": [
      "\u001b[1;31m---------------------------------------------------------------------------\u001b[0m",
      "\u001b[1;31mAttributeError\u001b[0m                            Traceback (most recent call last)",
      "Cell \u001b[1;32mIn[1], line 7\u001b[0m\n\u001b[0;32m      5\u001b[0m \u001b[38;5;66;03m#N回山の名前、高さを受け取る。\u001b[39;00m\n\u001b[0;32m      6\u001b[0m \u001b[38;5;28;01mfor\u001b[39;00m _ \u001b[38;5;129;01min\u001b[39;00m \u001b[38;5;28mrange\u001b[39m(N):\n\u001b[1;32m----> 7\u001b[0m     S, T \u001b[38;5;241m=\u001b[39m \u001b[38;5;28mmap\u001b[39m(\u001b[38;5;28;43mstr\u001b[39;49m\u001b[38;5;241;43m.\u001b[39;49m\u001b[43minput\u001b[49m()\u001b[38;5;241m.\u001b[39msplit())\n\u001b[0;32m      8\u001b[0m     \u001b[38;5;66;03m#高さはint型で受け取りたいので変換\u001b[39;00m\n\u001b[0;32m      9\u001b[0m     T \u001b[38;5;241m=\u001b[39m \u001b[38;5;28mint\u001b[39m(T)\n",
      "\u001b[1;31mAttributeError\u001b[0m: type object 'str' has no attribute 'input'"
     ]
    }
   ],
   "source": [
    "#Nを入力\n",
    "N = int(input())\n",
    "#山の高さ、名前を格納するリストを作る。\n",
    "Mountain = []\n",
    "#N回山の名前、高さを受け取る。\n",
    "for _ in range(N):\n",
    "    S, T = map(str, input().split())\n",
    "    #高さはint型で受け取りたいので変換\n",
    "    T = int(T)\n",
    "    Mountain.append([T,S])\n",
    "\n",
    "#大きい順に並び替え\n",
    "Mountain.sort(reverse=True)\n",
    "\n",
    "#2番目の山の高さを出力\n",
    "print(Mountain[1][1])\n",
    "\n"
   ]
  }
 ],
 "metadata": {
  "kernelspec": {
   "display_name": "Python 3",
   "language": "python",
   "name": "python3"
  },
  "language_info": {
   "codemirror_mode": {
    "name": "ipython",
    "version": 3
   },
   "file_extension": ".py",
   "mimetype": "text/x-python",
   "name": "python",
   "nbconvert_exporter": "python",
   "pygments_lexer": "ipython3",
   "version": "3.12.3"
  }
 },
 "nbformat": 4,
 "nbformat_minor": 2
}
