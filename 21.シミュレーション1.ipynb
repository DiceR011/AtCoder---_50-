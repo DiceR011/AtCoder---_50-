{
 "cells": [
  {
   "cell_type": "markdown",
   "metadata": {},
   "source": [
    "# 21.シミュレーション1"
   ]
  },
  {
   "cell_type": "markdown",
   "metadata": {},
   "source": [
    "### ABC214 Dif:319\n",
    "url : https://atcoder.jp/contests/abc214/tasks/abc214_c\n",
    "\n",
    "### [概要]\n",
    "操作をそのままやってみるという形で解ける問題。本問はすぬけ君がどのタイミングで宝石をもらうか実際にシミュレーションを行う。  \n",
    "2周する必要があることに気づければ簡単。間違えづらいような実装をするにはどうしたら良いかも考えながらコードを書こう。  \n",
    "### [解説]\n",
    "まずそれぞれのすぬけ君について、高橋くんから宝石をもらうか、隣のすぬけ君から宝石をもらうか、どちらのほうが早いか考える。  \n",
    "式にしてみよう  \n",
    "i番目のすぬけ君が宝石をもらうタイミングをtime[i]とすると、隣のすぬけ君が宝石をもらう式は以下が成り立つ。  \n",
    "$$time[i+1]=min(T[i+1],time[i]+S[i])$$\n",
    "※iは0インデックス、すなわち先頭を「0番目のすぬけ君」、次を「1番目のすぬけ君」、...と呼ぶ  \n",
    "\n",
    "これをi=0,1,2...(N-1)について順にけいさんすればよいのだが1週だけでは(N-1)番目のすぬけ君から0番目のすぬけ君へ宝石を渡す部分がうまくいかない。  \n",
    "よって2週分同じ処理を繰り返す。\n",
    "\n",
    "~例~\n",
    "N:4  \n",
    "S:1 1 1 1  \n",
    "T:100 10 20 1  \n",
    "time[i]：i番目のすぬけ君が初めて宝石をもらう時間。初期値は∞(実装では大きな数)としておく  \n",
    "「1番目のすぬけ君」\n",
    "$$time[1]= min(T[1], time[0]+S[0])$$\n",
    "$$=min(10,∞)$$\n",
    "$$=10$$\n",
    "「2番目のすぬけ君」\n",
    "$$time[2]= min(T[2], time[1]+S[1])$$\n",
    "$$=min(20,10+1)$$\n",
    "$$=11$$\n",
    "「3番目のすぬけ君」\n",
    "$$time[3]= min(T[3], time[2]+S[2])$$\n",
    "$$=min(1,11+1)$$\n",
    "$$=1$$\n",
    "「0番目のすぬけ君」\n",
    "$$time[0]= min(T[0], time[3]+S[3])$$\n",
    "$$=min(100,1+1)$$\n",
    "$$=2$$\n",
    "ここまでが1周目。ここから更にもう1周する。  \n",
    "2周目では隣のすぬけ君から宝石をもらう時間が1周目で計算した時間よりも早ければ更新していく。\n",
    "$$time[i+1]=min(time[i]+S[i],time[i+1])$$\n",
    "「1番目のすぬけ君」\n",
    "$$time[1]=min(time[0]+S[0],time[1])$$\n",
    "$$=min(2+1,10)$$\n",
    "$$=3$$\n",
    "「2番目のすぬけ君」\n",
    "$$time[2]=min(time[1]+S[1],time[2])$$\n",
    "$$=min(3+1,11)$$\n",
    "$$=4$$\n",
    "「3番目のすぬけ君」\n",
    "$$time[3]=min(time[2]+S[2],time[3])$$\n",
    "$$=min(4+1,1)$$\n",
    "$$=1$$\n",
    "「0番目のすぬけ君」\n",
    "$$time[0]=min(time[3]+S[3],time[0])$$\n",
    "$$=min(1+1,2)$$\n",
    "$$=2$$\n",
    "これですぬけ君が宝石を受け取ったタイミングが分かった。  \n",
    "\n",
    "### [実装のコツ]\n",
    "- inf\n",
    "  timeの初期値は大きな数とする。\n",
    "\n",
    "  本問の場合Tiが最大10^9だから少なくとも10^9よりは大きくなければならない。  \n",
    "  しかし大きすぎると今度は計算に時間がかかりすぎてTLEする。  \n",
    "  たとえば、10^20程大きい数だと危ない。目安としては10^15くらいにすれば大体通る。  \n",
    "- N → 0への変換\n",
    "  「(N-1)番目のすぬけ君」の次は「0番目のすぬけ君」なので、time[N-1+1]=time[N]=time[0]へ変換する必要がある。  \n",
    "  if文で条件分岐をしてもよいが、Nで割ったあまりをとることでらくに実装できる。 "
   ]
  },
  {
   "cell_type": "code",
   "execution_count": 12,
   "metadata": {},
   "outputs": [
    {
     "name": "stdout",
     "output_type": "stream",
     "text": [
      "3\n",
      "7\n",
      "8\n"
     ]
    }
   ],
   "source": [
    "#入力受け取り\n",
    "N = int(input())\n",
    "S = list(map(int, input().split()))\n",
    "T = list(map(int, input().split()))\n",
    "#すぬけ君が最初に宝石を受け取った時間を格納するリスト\n",
    "suneke_time = [10**15] * N\n",
    "\n",
    "#1周目すぬけくんが高橋君から受け取るか、隣のすぬけくんから受け取るのでどちらが早いかを計算する。\n",
    "for i in range(N):\n",
    "    #次のすぬけくんの番号が、3の次が0となるようにNで割ったあまりを取得する。\n",
    "    next = (i+1) % N \n",
    "    #すぬけくんが高橋君から受け取った時間をT1,隣のすぬけ君が受け取った時間をT2とする\n",
    "    T1, T2 = T[next], suneke_time[i] + S[i]\n",
    "    if T1 > T2:\n",
    "        suneke_time[next] = T2\n",
    "    else:\n",
    "        suneke_time[next] = T1\n",
    "\n",
    "#2周目すぬけくんが1周目よりも隣からもらったほうが早かったかを計算する。\n",
    "for i in range(N):\n",
    "    #次のすぬけ君\n",
    "    next = (i+1) % N \n",
    "    #すぬけ君が2周目で隣の人から受け取るほうが早かったかそうではないかを判定する\n",
    "    T1, T2 = suneke_time[i] + S[i], suneke_time[next]\n",
    "    if T1 > T2:\n",
    "        suneke_time[next] = T2\n",
    "    else:\n",
    "        suneke_time[next] = T1\n",
    "\n",
    "for i in range(N):\n",
    "    print(suneke_time[i])"
   ]
  }
 ],
 "metadata": {
  "kernelspec": {
   "display_name": "Python 3",
   "language": "python",
   "name": "python3"
  },
  "language_info": {
   "codemirror_mode": {
    "name": "ipython",
    "version": 3
   },
   "file_extension": ".py",
   "mimetype": "text/x-python",
   "name": "python",
   "nbconvert_exporter": "python",
   "pygments_lexer": "ipython3",
   "version": "3.12.3"
  }
 },
 "nbformat": 4,
 "nbformat_minor": 2
}
