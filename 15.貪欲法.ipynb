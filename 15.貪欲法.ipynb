{
 "cells": [
  {
   "cell_type": "markdown",
   "metadata": {},
   "source": [
    "# 章タイトルを入力"
   ]
  },
  {
   "cell_type": "markdown",
   "metadata": {},
   "source": [
    "### ABC229 Dif:165\n",
    "url : https://atcoder.jp/contests/abc229/tasks/abc229_c\n",
    "\n",
    "### [概要]\n",
    "「貪欲法」は「前後の状況は考えずに今一番いいものをとり続ける」方法である。  \n",
    "考え方は一番簡単で実装も楽にできる。  \n",
    "問題を見た時にまず「貪欲法で解けないか？」を考え、無理そうなら別の方法という手順で考えるようにしよう。\n",
    "\n",
    "### [解説]\n",
    "1gあたりの美味しさが高いものから順に合計がWgになるまでチーズを載せていく。  \n",
    "入力を二次元配列として受け取り、美味しさの大きい順にソートして計算を行う。  \n",
    "このように「前後の状況は考えずに今一番良いものを取り続ける方法」を「貪欲法」という。 本問の場合、後のことは考慮せずに残っているチーズのうち、美味しさが最大のものを載せ続けるということ。\n",
    "\n",
    "### [実装のコツ]\n",
    "リストの在庫を減算して0になったら次、というやり方では、TLEしてしまうので、常にforで回す回数を少なくするような考え方をしよう。"
   ]
  },
  {
   "cell_type": "code",
   "execution_count": 13,
   "metadata": {},
   "outputs": [
    {
     "name": "stdout",
     "output_type": "stream",
     "text": [
      "11\n"
     ]
    }
   ],
   "source": [
    "#W[g]以下でN種類のチーズで最高においしいピザを作るぜ！\n",
    "N, W = map(int,input().split())\n",
    "#1g当たりのおいしさAiと在庫Biを格納する冷蔵庫。\n",
    "Fridge = list()\n",
    "#チーズを入れていくぅ！\n",
    "for i in range(N):\n",
    "    A, B = map(int,input().split())\n",
    "    Fridge.append([A, B])\n",
    "#答え\n",
    "ans = 0\n",
    "#美味しさ大きい順に並べる。\n",
    "Fridge.sort(reverse=True)\n",
    "\n",
    "#i =0~(N-1)まで\n",
    "for i in range(N):\n",
    "    #i種類目のチーズの美味しさ\n",
    "    Delicious = Fridge[i][0]\n",
    "    #i種類目のチーズの重さ\n",
    "    Weight = Fridge[i][1]\n",
    "    #重さ>=Wなら\n",
    "    if Weight <= W:\n",
    "        #全部載せる\n",
    "        ans += Delicious * Weight\n",
    "        #載せられる残りの重さ\n",
    "        W -= Weight\n",
    "    #W<重さなら\n",
    "    else:\n",
    "        #残りの分量W[g]載せる\n",
    "        ans += Delicious * W\n",
    "        #これ以上載せられないのでfor文を抜ける\n",
    "        break\n",
    "\n",
    "print(ans)"
   ]
  },
  {
   "cell_type": "code",
   "execution_count": null,
   "metadata": {},
   "outputs": [],
   "source": [
    "#TLEになったやつ。計算量を減らす工夫をしよう。\n",
    "#W[g]以下でN種類のチーズで最高においしいピザを作るぜ！\n",
    "N, W = map(int,input().split())\n",
    "#1g当たりのおいしさAiと在庫Biを格納する冷蔵庫。\n",
    "Fridge = list()\n",
    "#チーズを入れていくぅ！\n",
    "for i in range(N):\n",
    "    A, B = map(int,input().split())\n",
    "    Fridge.append([A, B])\n",
    "\n",
    "#今のチーズ量\n",
    "now_cheese = 0\n",
    "#おいしさ\n",
    "delicious = 0\n",
    "#美味しさ順に並べる。\n",
    "Fridge.sort(reverse=True)\n",
    "#チーズ番号\n",
    "n = 0\n",
    "#Wの制約のもと、最強においしいまかないピザを作るぜ！\n",
    "while now_cheese < W or Fridge[N-1][1] == 0:\n",
    "    if Fridge[n][1] > 0:\n",
    "        delicious += Fridge[n][0]\n",
    "        Fridge[n][1] -= 1\n",
    "        now_cheese += 1\n",
    "    elif n < N-1:\n",
    "        n += 1\n",
    "    else:\n",
    "        break\n",
    "\n",
    "print(delicious)"
   ]
  }
 ],
 "metadata": {
  "kernelspec": {
   "display_name": "Python 3",
   "language": "python",
   "name": "python3"
  },
  "language_info": {
   "codemirror_mode": {
    "name": "ipython",
    "version": 3
   },
   "file_extension": ".py",
   "mimetype": "text/x-python",
   "name": "python",
   "nbconvert_exporter": "python",
   "pygments_lexer": "ipython3",
   "version": "3.12.3"
  }
 },
 "nbformat": 4,
 "nbformat_minor": 2
}
