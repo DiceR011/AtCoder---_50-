{
 "cells": [
  {
   "cell_type": "markdown",
   "metadata": {},
   "source": [
    "# 13.周期性"
   ]
  },
  {
   "cell_type": "markdown",
   "metadata": {},
   "source": [
    "### ABC C Dif:119\n",
    "url:https://atcoder.jp/contests/abc220/tasks/abc220_c\n",
    "\n",
    "### [概要]\n",
    "C問題でよく出題される問題で、問題文の指示通り愚直に処理を行うとTLEして失敗する問題。このような問題は周期性を利用して計算量を減らしてやる必要がある。  \n",
    "よくわからない場合は、紙に数列の例を作って考えてみよう。\n",
    "\n",
    "### [解説]\n",
    "まず、Aが最低いくつ必要かを考える。これはXを(Aの合計)で割った商、すなわち\n",
    "\n",
    "$$ (Aの個数)=X//(Aの合計)$$\n",
    "\n",
    "と計算できる。\n",
    "項数は\n",
    "\n",
    "$$ (Aの個数)×(Aの項数)$$\n",
    "\n",
    "合計は\n",
    "\n",
    "$$ (Aの個数)×(Aの合計)$$\n",
    "\n",
    "残りBに足りない部分についてはAの要素を1つずつ足していき、Xを超えたらそこまでの項数を出力する。\n",
    "\n",
    "~例~  \n",
    "N : 3  \n",
    "A : 1 2 3  \n",
    "X : 20  \n",
    "\n",
    "まずはAが最低いくつ必要か計算する。\n",
    "$$X//(Aの合計)$$\n",
    "$$10//(1+2+3)$$\n",
    "$$=20//6$$\n",
    "$$=3$$\n",
    "よって3個のAが必要。\n",
    "項数は、\n",
    "$$(Aの個数)*(Aの要素数)$$\n",
    "$$=3×3$$\n",
    "$$=9$$\n",
    "合計は、\n",
    "$$(Aの個数)*(Aの合計)$$\n",
    "$$=3×6=18$$\n",
    "\n",
    "ここからX(=20)となるまで順に足していけば答えが求まる。\n",
    "\n",
    "実際に実装しましょう。"
   ]
  },
  {
   "cell_type": "code",
   "execution_count": 2,
   "metadata": {},
   "outputs": [
    {
     "name": "stdout",
     "output_type": "stream",
     "text": [
      "8\n"
     ]
    }
   ],
   "source": [
    "#入力\n",
    "N = int(input())\n",
    "A = list(map(int,input().split()))\n",
    "X = int(input())\n",
    "#Aの1周期当たりの合計\n",
    "A_oneperiod_total = sum(A)\n",
    "\n",
    "#最低Aが何周期必要か計算する。\n",
    "A_period = X // A_oneperiod_total\n",
    "\n",
    "#その時のAの項数\n",
    "A_terms = A_period * N\n",
    "\n",
    "#Aの合計値を格納する\n",
    "A_total = A_oneperiod_total * A_period\n",
    "\n",
    "#残りの項数をXを超えるまで加算していく。\n",
    "for i in A:\n",
    "    A_total += i\n",
    "    A_terms += 1\n",
    "    if A_total > X:\n",
    "        break\n",
    "\n",
    "print(A_terms)"
   ]
  }
 ],
 "metadata": {
  "kernelspec": {
   "display_name": "Python 3",
   "language": "python",
   "name": "python3"
  },
  "language_info": {
   "codemirror_mode": {
    "name": "ipython",
    "version": 3
   },
   "file_extension": ".py",
   "mimetype": "text/x-python",
   "name": "python",
   "nbconvert_exporter": "python",
   "pygments_lexer": "ipython3",
   "version": "3.12.3"
  }
 },
 "nbformat": 4,
 "nbformat_minor": 2
}
