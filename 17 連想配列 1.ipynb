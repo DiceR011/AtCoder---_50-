{
 "cells": [
  {
   "cell_type": "markdown",
   "metadata": {},
   "source": [
    "# 17.連想配列 1"
   ]
  },
  {
   "cell_type": "markdown",
   "metadata": {},
   "source": [
    "### ABC206 C Dif:171\n",
    "url : https://atcoder.jp/contests/abc206/tasks/abc206_c\n",
    "\n",
    "### [概要]\n",
    "連想配列は非常に多くの問題で使う重要なテクニックの一つ。リストだけで解こうとするとかなり難しい問題でも、連想配列を使うといとも簡単に解けるということもよくある。この問題で考え方、実装方法を覚えよう。\n",
    " \n",
    "### [解説]\n",
    "(i,j)の組についてAi≠Ajとなっているか確認すると計算量がO(N^2)となる。  \n",
    "Nは最大3*10^5であるからTLEする。  \n",
    "まずAi=Ajとなる組がいくつあるか計算し、それを全体の組み合わせの数から引く方針を取る。  \n",
    "これはAにそれぞれの数がいくつ含まれているか確認すれば簡単に計算できる。  \n",
    " Aにaがx個(2≤x)含まれているなら、Ai=Aj=aとなる組み合わせの数は xC2=x(x-1)/2 (Cはコンビネーション(nCr)) と計算できる。  \n",
    " a=1,2,3,...について計算し、引き算すれば終わり。  \n",
    "ただし、Aにそれぞれの数がいくつ含まれるか確認する際、リストを使うとAiの最大値が10^9であるためにリストのサイズが大きくなりすぎてMLE(メモリ制限超過)する。 そこで連想配列defaultdictを使って記録する。  \n",
    "これなら最大でもAの要素数N個だけ記録するからMLE(メモリ制限超過)しない。\n",
    "\n",
    "~例~  \n",
    "N: 7  \n",
    "A: 1 2 1 2 2 3 4  \n",
    "N=7であるから(i,j)の組み合わせ全部の数は7C2=21通り。  \n",
    "ここからAi=Ajとなる組の数を計算するため、それぞれの要素がいくつあるか数える。  \n",
    "1: 2個  \n",
    "2: 3個  \n",
    "3: 1個  \n",
    "4: 1個  \n",
    "\n",
    "「Ai=Aj=1となる組み合わせ」  \n",
    "「1」は2個ある。  \n",
    "Ai=Ajとなる並び方は  \n",
    "2C2  \n",
    "=2*(2-1)/2  \n",
    "=1  \n",
    "ゆえに1組。(A1, A3)\n",
    "\n",
    "「Ai=Aj=2となる組み合わせ」  \n",
    "「2」は3個ある。  \n",
    "Ai=Ajとなる選び方は  \n",
    "3C2  \n",
    "=3*(3-1)/2  \n",
    "=3  \n",
    "ゆえに3組。\n",
    "(A2,A4),(A2,A5),(A4,A5)\n",
    "\n",
    "「Ai=Aj=3となる組み合わせ」  \n",
    "「Ai=Aj=4となる組み合わせ」  \n",
    "「3」「4」については1個しかないため組を作れない。  \n",
    "各要素がいくつあるかはdefaultdictを使って記録する。  \n",
    "使ったことがない人は【実装のコツ】を確認してほしい。\n",
    "\n",
    "### [実装のコツ]\n",
    "**<defaultdict(連想配列)>**\n",
    "連想配列は別名「辞書」とも言い、「キー」と対応する「値」を登録できるデータ構造。  \n",
    "pythonでは標準で搭載されており、dict()と書くことでも使える。  \n",
    "しかし標準のものはデフォルトの値(初期値)が設定できず、存在しない「キー」にアクセスする可能性があるときの処理が面倒。  \n",
    "そこで連想配列の一つ、defaultdictを使う。 defaultdictは通常の連想配列と同様に使え、さらに初期値を設定できる。  \n",
    "値の割当が行われていない「キー」には自動的に初期値が割り振られる。  \n"
   ]
  },
  {
   "cell_type": "code",
   "execution_count": null,
   "metadata": {},
   "outputs": [],
   "source": [
    "#入力の受け取り\n",
    "N = int(input())\n",
    "A = list(map(int,input().split()))\n",
    "\n",
    "#defaultdictのインポート\n",
    "from collections import defaultdict\n",
    "\n",
    "#要素の出現回数を数える連想配列\n",
    "count = defaultdict(int)\n",
    "\n",
    "#Aのそれぞれの要素(a)について\n",
    "for i in range(N):\n",
    "    count[A(i)] += 1\n",
    "\n",
    "#全組み合わせ=NC2=N*(N-1)//2\n",
    "ans = N * (N-1) // 2\n",
    "\n",
    "# countの値(x)それぞれについて\n",
    "for x in count.values():\n",
    "    #Ai=Ajとなる組の数x+x(x-1)//2を引く\n",
    "    ans -= x*(x-1)//2\n",
    "\n",
    "print(ans)"
   ]
  },
  {
   "cell_type": "code",
   "execution_count": 7,
   "metadata": {},
   "outputs": [
    {
     "name": "stdout",
     "output_type": "stream",
     "text": [
      "10\n",
      "Taro\n",
      "[3, 4, 5]\n",
      "1\n"
     ]
    }
   ],
   "source": [
    "from collections import defaultdict\n",
    "#0以外の初期値を設定する場合、lambda: 数値と入力する。\n",
    "AsArray = defaultdict(int)\n",
    "AsArray[1] = 10\n",
    "AsArray['Man'] = 'Taro'\n",
    "AsArray[(1,2)] = [3,4,5]\n",
    "\n",
    "print(AsArray[1])\n",
    "print(AsArray['Man'])\n",
    "print(AsArray[(1,2)])\n",
    "#割り当てられてないキーでも出力する。\n",
    "print(AsArray[99])"
   ]
  }
 ],
 "metadata": {
  "kernelspec": {
   "display_name": "Python 3",
   "language": "python",
   "name": "python3"
  },
  "language_info": {
   "codemirror_mode": {
    "name": "ipython",
    "version": 3
   },
   "file_extension": ".py",
   "mimetype": "text/x-python",
   "name": "python",
   "nbconvert_exporter": "python",
   "pygments_lexer": "ipython3",
   "version": "3.12.3"
  }
 },
 "nbformat": 4,
 "nbformat_minor": 2
}
