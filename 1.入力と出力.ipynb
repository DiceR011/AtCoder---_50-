{
 "cells": [
  {
   "cell_type": "markdown",
   "metadata": {},
   "source": [
    "# 1.入力と出力 "
   ]
  },
  {
   "cell_type": "markdown",
   "metadata": {},
   "source": [
    "## 初めに\n",
    "入力の受け取りはいつでも5パターン。\n",
    "受け取り方で早い遅いは存在するが、AtCoderにおいてはTLE(実行制限時間超過)が起きることはないので  \n",
    "とりあえずこの受け取り方を覚えてください！\n",
    "\n",
    "1. 数字が1つ\n",
    "   入力 : N\n",
    "\n",
    "   ```\n",
    "   N = int(input())\n",
    "   ```\n",
    "\n",
    "2. 数字が二つ以上で別々に受け取り\n",
    "   入力 : A B\n",
    "\n",
    "   ```\n",
    "   A, B = map(int,input().split())\n",
    "   ```\n",
    "\n",
    "3. 文字列が1つ\n",
    "   入力 : S\n",
    "\n",
    "   ```\n",
    "   S = input()\n",
    "   ```\n",
    "\n",
    "4. 文字列が2つ以上別々に受け取り\n",
    "   入力 : S T\n",
    "\n",
    "   ```\n",
    "   S, T = map(int,input().split())\n",
    "   ```\n",
    "\n",
    "5. リストでの受け取り\n",
    "   入力 : A1 A2 … An\n",
    "\n",
    "   ```\n",
    "   A = list(map(int,input().split()))\n",
    "   ```\n",
    "\n",
    "いつでもコピペできるように基本入力コピペを作成しておきました。ぜひご活用ください。\n",
    "\n",
    "出力はどんな場合でもprint()で表記します。\n",
    "\n",
    "```\n",
    "print('Hello world')\n",
    "```"
   ]
  },
  {
   "cell_type": "markdown",
   "metadata": {},
   "source": [
    "### ABC205 A Dif:6\n",
    "url : https://atcoder.jp/contests/abc205/tasks/abc205_a\n",
    "\n",
    "#### [概要]\n",
    "基本入力出力のやり方を覚えましょう。\n",
    "\n",
    "- 問題文  \n",
    "  100 mL あたり \n",
    "A kcal のエネルギーを持つドリンクがあります。このドリンク \n",
    "B mL は何 kcal のエネルギーを持つでしょうか？\n",
    "\n",
    "- 制約  \n",
    "  - 0 ≤ A, B ≤ 1000  \n",
    "  - 入力は全て整数である。\n",
    "\n",
    "- 解説  \n",
    "  1ml当たりのカロリーはA*(1/100)となるので、Bml当たりのカロリーはA*(1/100)*Bとなる。\n",
    "  これを出力できるようにすればよい。"
   ]
  },
  {
   "cell_type": "code",
   "execution_count": null,
   "metadata": {},
   "outputs": [],
   "source": [
    "#A,Bの受け取り\n",
    "A, B = map(int,input().split())\n",
    "#1ml当たりのカロリーA*(1/100)から、Bml当たりのカロリーを求める。\n",
    "print(A*1/100*B)"
   ]
  }
 ],
 "metadata": {
  "language_info": {
   "name": "python"
  }
 },
 "nbformat": 4,
 "nbformat_minor": 2
}
