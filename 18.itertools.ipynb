{
 "cells": [
  {
   "cell_type": "markdown",
   "metadata": {},
   "source": [
    "# 18.itertools"
   ]
  },
  {
   "cell_type": "markdown",
   "metadata": {},
   "source": [
    "### ABC215 Dif:178\n",
    "url : https://atcoder.jp/contests/abc215/tasks/abc215_x\n",
    "\n",
    "### [概要]\n",
    "itertoolsは順列や組み合わせを列挙するライブラリ。  \n",
    "競技プログラミングでは順列や組み合わせを使って全パターンを列挙することが多いため非常に重要。  \n",
    "逆にitertoolsを知らないと解けない問題も多い。itertoolsの中でもよく使うものは【実装のコツ】にまとめているのでコピペできるよう保存しておこう。  \n",
    "\n",
    "### [解説]\n",
    "Sの制約が1≤|S|≤8と非常に小さいため、作れうる全ての文字列をリストに入れてしまえばいい。  \n",
    "あとはソートしてK番目の文字列を確認する。  \n",
    "\n",
    "文字列の列挙にはitertoolsを使う。使い方がわからない人は【実装のコツ】**itertools** を見てほしい。  \n",
    "\n",
    "### [実装のコツ]\n",
    "- **itertools**\n",
    "itertoolsは数列の順列や組み合わせなどを列挙する機能。  \n"
   ]
  },
  {
   "cell_type": "code",
   "execution_count": 1,
   "metadata": {},
   "outputs": [
    {
     "name": "stdout",
     "output_type": "stream",
     "text": [
      "[順列]\n",
      "(0, 1, 2, 3)\n",
      "(0, 1, 3, 2)\n",
      "(0, 2, 1, 3)\n",
      "(0, 2, 3, 1)\n",
      "(0, 3, 1, 2)\n",
      "(0, 3, 2, 1)\n",
      "(1, 0, 2, 3)\n",
      "(1, 0, 3, 2)\n",
      "(1, 2, 0, 3)\n",
      "(1, 2, 3, 0)\n",
      "(1, 3, 0, 2)\n",
      "(1, 3, 2, 0)\n",
      "(2, 0, 1, 3)\n",
      "(2, 0, 3, 1)\n",
      "(2, 1, 0, 3)\n",
      "(2, 1, 3, 0)\n",
      "(2, 3, 0, 1)\n",
      "(2, 3, 1, 0)\n",
      "(3, 0, 1, 2)\n",
      "(3, 0, 2, 1)\n",
      "(3, 1, 0, 2)\n",
      "(3, 1, 2, 0)\n",
      "(3, 2, 0, 1)\n",
      "(3, 2, 1, 0)\n",
      "[重複なしの組み合わせ]\n",
      "(0, 1)\n",
      "(0, 2)\n",
      "(0, 3)\n",
      "(1, 2)\n",
      "(1, 3)\n",
      "(2, 3)\n",
      "[重複ありの組み合わせ]\n",
      "(0, 0)\n",
      "(0, 1)\n",
      "(0, 2)\n",
      "(0, 3)\n",
      "(1, 0)\n",
      "(1, 1)\n",
      "(1, 2)\n",
      "(1, 3)\n",
      "(2, 0)\n",
      "(2, 1)\n",
      "(2, 2)\n",
      "(2, 3)\n",
      "(3, 0)\n",
      "(3, 1)\n",
      "(3, 2)\n",
      "(3, 3)\n"
     ]
    }
   ],
   "source": [
    "#itertools 実践\n",
    "#インポート\n",
    "import itertools\n",
    "N, K = 4, 2\n",
    "#順列:permutations(range(始まり、終わり+1))\n",
    "#p = (0,1,2,3),(0,1,3,2),(0,2,1,3),(0,2,3,1),…(3,2,1,0)\n",
    "print('[順列]')\n",
    "for p in itertools.permutations(range(N)):\n",
    "    print(p)\n",
    "\n",
    "#重複なしの組み合わせ:combinations(range(始まり, 終わり+1), 取る個数)\n",
    "print('[重複なしの組み合わせ]')\n",
    "#p=(0,1),(0,2)(0,3),(1,2),…(2,3)\n",
    "for p in itertools.combinations(range(N),K):\n",
    "    print(p)\n",
    "\n",
    "#重複ありの組み合わせ:combinations_with_rep(range(始まり,終わり+1),取る個数)\n",
    "#p =(0,0),(0,1),(0,2),(0,3),(1,1),…(3,3)\n",
    "for p in itertools.combinations_with_replacement(range(N),K):\n",
    "    print(p)\n",
    "\n",
    "#直積 : product(range(始まり, 終わり+1),range(始まり, 終わり+1)):\n",
    "print('[直積]')\n",
    "#p =(0,0),(0,1),(0,2),(0,3),(1,0),…(3,3)\n",
    "for p in itertools.product(range(N),range(N)):\n",
    "    print(p)\n"
   ]
  },
  {
   "cell_type": "code",
   "execution_count": 24,
   "metadata": {},
   "outputs": [
    {
     "name": "stdout",
     "output_type": "stream",
     "text": [
      "baa\n"
     ]
    }
   ],
   "source": [
    "#入力\n",
    "S, K = map(str,input().split())\n",
    "#Kを\n",
    "K = int(K)\n",
    "\n",
    "#itertoolsをインポート\n",
    "import itertools\n",
    "\n",
    "# 作れる文字を格納するセット(リストだと重複するものも入ってしまう)\n",
    "S_set = set()\n",
    "\n",
    "for p in itertools.permutations(range(len(S))):\n",
    "    #作った文字列を記録する変数\n",
    "    S_tmp = ''\n",
    "    #pを使って文字を作成\n",
    "    #例:p=(2,0,1)なら、S_tmp=Sの2文字目+Sの0文字目+Sの1文字目\n",
    "    for i in p:\n",
    "        S_tmp += S[i]\n",
    "        #できた文字をS_setに格納(setへの追加はappendではなく、addであることに注意)\n",
    "    S_set.add(S_tmp)\n",
    "\n",
    "#ソートするためにリストへ変換\n",
    "S_list = list(S_set)\n",
    "\n",
    "#辞書順にソート\n",
    "S_list.sort()\n",
    "\n",
    "#K-1番目の要素を出力\n",
    "print(S_list[K-1])\n",
    "\n"
   ]
  }
 ],
 "metadata": {
  "kernelspec": {
   "display_name": "Python 3",
   "language": "python",
   "name": "python3"
  },
  "language_info": {
   "codemirror_mode": {
    "name": "ipython",
    "version": 3
   },
   "file_extension": ".py",
   "mimetype": "text/x-python",
   "name": "python",
   "nbconvert_exporter": "python",
   "pygments_lexer": "ipython3",
   "version": "3.12.3"
  }
 },
 "nbformat": 4,
 "nbformat_minor": 2
}
