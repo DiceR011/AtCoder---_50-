{
 "cells": [
  {
   "cell_type": "markdown",
   "metadata": {},
   "source": [
    "# 16.インタラクティブ"
   ]
  },
  {
   "cell_type": "markdown",
   "metadata": {},
   "source": [
    "### ABC244 C Dif:165\n",
    "url :  https://atcoder.jp/contests/abc244/tasks/abc244_c\n",
    "\n",
    "### [概要]\n",
    "インタラクティブ(対話式)な問題。出題頻度は多くないが、出題されたときは問題の難易度に比してDifが上がりがちなので、解ければレートを大幅に上げることができる。pythonで解く場合は通常の問題とあまり変わらない。コンテストで出題された時も確実に解けるようにしておこう。\n",
    "\n",
    "### [解説]\n",
    "すでに使われた数字を管理してまだ使われていない数字を出力する。  \n",
    "すでに使われた数字の管理方法は初期値が全てFalseのリストを用意し、使った数字の部分をTrueにしていくという方法が一番楽。  \n",
    "あとは入力のたびにリストを前から確認し、まだFalseであるものを出力する。  \n",
    "### [実装のコツ]\n",
    "<途中終了>  \n",
    "注意点に「高橋君の勝ちでゲームが終了したあと、あなたのプログラムは直ちに終了しなければなりません」と記載がある。  \n",
    "勝ちの場合は「0」が入力されるのでそのタイミングでプログラムを終了する。  \n",
    "途中終了する場合は  \n",
    "```\n",
    "exit() \n",
    "```\n",
    "と書く。\n"
   ]
  },
  {
   "cell_type": "code",
   "execution_count": null,
   "metadata": {},
   "outputs": [],
   "source": [
    "#Nの宣言\n",
    "N = int(input())\n",
    "\n",
    "#すでに使った数の記録\n",
    "Used=[False]*(2*N+2)\n",
    "\n",
    "#最初は「1」を出力\n",
    "print(1)\n",
    "\n",
    "#1は使用済み\n",
    "Used[1]=True\n",
    "\n",
    "# N回\n",
    "for _ in range(N+1):\n",
    "    #青木君の入力の受け取り\n",
    "    x = int(input())\n",
    "    #「x」は使った。\n",
    "    Used[x]=True\n",
    "    \n",
    "    #x = 「0」の場合\n",
    "    if x == 0:\n",
    "        #終了\n",
    "        exit()\n",
    "    #k = 1~(2k+1)\n",
    "    for k in range(1,2*N+2):\n",
    "        #まだ使ってないなら\n",
    "        if Used[k] == False:\n",
    "            #「k」を出力\n",
    "            print(k)\n",
    "            #kは使った\n",
    "            Used[k]=True\n",
    "            break"
   ]
  }
 ],
 "metadata": {
  "language_info": {
   "name": "python"
  }
 },
 "nbformat": 4,
 "nbformat_minor": 2
}
