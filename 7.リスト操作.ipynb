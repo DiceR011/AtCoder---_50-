{
 "cells": [
  {
   "cell_type": "markdown",
   "metadata": {},
   "source": [
    "# 7.リスト操作"
   ]
  },
  {
   "cell_type": "markdown",
   "metadata": {},
   "source": [
    "### ABC241 A Dif:15\n",
    "url : https://atcoder.jp/contests/abc241/tasks/abc241_a\n",
    "\n",
    "### [概要]\n",
    "リストを使えるようになろう。  \n",
    "リストはfor文で一つずつ確認するという使い方のほか、本問のように行き先を格納するような使い方もできる。  \n",
    "A問題でも稀にリストが必要な問題が出てくるが、本問が解ければ大抵の問題は解けるだろう。\n"
   ]
  },
  {
   "cell_type": "code",
   "execution_count": 1,
   "metadata": {},
   "outputs": [
    {
     "name": "stdout",
     "output_type": "stream",
     "text": [
      "6\n"
     ]
    }
   ],
   "source": [
    "#a0~a9を入力\n",
    "a = list(map(int, input().split()))\n",
    "#最初のスイッチ\n",
    "c = a[0]\n",
    "\n",
    "for _ in range(2):\n",
    "    ans = a[c]\n",
    "    c = ans\n",
    "print(ans)"
   ]
  },
  {
   "cell_type": "code",
   "execution_count": null,
   "metadata": {},
   "outputs": [],
   "source": [
    "N = int(input())\n",
    "H = list(map(int,input().split()))\n",
    "for i in range(1, N):\n",
    "    if H[0] > H[i]:\n",
    "        print(i+1)\n",
    "        break\n",
    "else:\n",
    "    print(-1)"
   ]
  }
 ],
 "metadata": {
  "kernelspec": {
   "display_name": "Python 3",
   "language": "python",
   "name": "python3"
  },
  "language_info": {
   "codemirror_mode": {
    "name": "ipython",
    "version": 3
   },
   "file_extension": ".py",
   "mimetype": "text/x-python",
   "name": "python",
   "nbconvert_exporter": "python",
   "pygments_lexer": "ipython3",
   "version": "3.12.3"
  }
 },
 "nbformat": 4,
 "nbformat_minor": 2
}
