{
 "cells": [
  {
   "cell_type": "markdown",
   "metadata": {},
   "source": [
    "# 9.図形"
   ]
  },
  {
   "cell_type": "markdown",
   "metadata": {},
   "source": [
    "### ABC246 A Dif28\n",
    "### [概要]\n",
    "図形問題で重量なことはとにかく紙に書いてみることである。\n",
    "コンテスト中は必ず紙とペンを用意しよう。\n",
    "\n"
   ]
  },
  {
   "cell_type": "code",
   "execution_count": null,
   "metadata": {},
   "outputs": [],
   "source": [
    "x1, y1 = map(int, input().split())\n",
    "x2, y2 = map(int, input().split())\n",
    "x3, y3 = map(int, input().split())\n",
    "\n",
    "#x1=x2の場合\n",
    "if x1 == x2:\n",
    "    x4 = x3\n",
    "#x1=x3の場合\n",
    "elif x1 == x3:\n",
    "    x4 = x2\n",
    "else:\n",
    "    x4 = x1\n",
    "\n",
    "#y1=y2の場合\n",
    "if y1 == y2:\n",
    "    y4 = y3\n",
    "#y1=y3の場合\n",
    "elif y1 == y3:\n",
    "    y4 = y2\n",
    "else:\n",
    "    y4 = y1\n",
    "\n",
    "print(x4, y4)\n"
   ]
  }
 ],
 "metadata": {
  "language_info": {
   "name": "python"
  }
 },
 "nbformat": 4,
 "nbformat_minor": 2
}
