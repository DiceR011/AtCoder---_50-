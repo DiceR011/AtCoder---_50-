{
 "cells": [
  {
   "cell_type": "markdown",
   "metadata": {},
   "source": [
    "# 3.関数"
   ]
  },
  {
   "cell_type": "markdown",
   "metadata": {},
   "source": [
    "### ABC234 A Dif:7\n",
    "\n",
    "#### [概要]\n",
    "関数はプログラミングの基本の一つであり、うまく使えればコード量を減らし、見やすいコードを書くことができます。  \n",
    "ぜひこの問題で書き方を覚えて下さい。  \n",
    "\n",
    "#### - 問題  \n",
    "関数 \n",
    "f を \n",
    "f(x)=x \n",
    "2\n",
    " +2x+3 と定義します。  \n",
    "    整数 \n",
    "t が入力されるので、 \n",
    "f(f(f(t)+t)+f(f(t))) を求めてください。  \n",
    "    ただし、答えは \n",
    "2×10 \n",
    "9\n",
    "  以下の整数であることが保証されます。  \n",
    "\n",
    "#### - 制約\n",
    "  - tは0以上10以下の整数である。\n",
    "\n",
    "#### [解説]\n",
    "まず、関数の定義方法から  \n",
    "関数は  \n",
    "**入力→(処理)→値を返す**\n",
    "というような一連の処理を指します。  \n",
    "処理内容は自分でプログラムできます。  \n",
    "書き方は以下の通りです。  \n",
    "\n",
    "```\n",
    "def関数名(引数)\n",
    "  (処理)\n",
    "  return 返り値\n",
    "```\n",
    "\n",
    "例えば、以下のように引数にxを入力すると3xを返す関数を作ってみる。\n",
    "\n"
   ]
  },
  {
   "cell_type": "code",
   "execution_count": 2,
   "metadata": {},
   "outputs": [
    {
     "name": "stdout",
     "output_type": "stream",
     "text": [
      "129\n"
     ]
    }
   ],
   "source": [
    "#引数xを3xにしてくれる関数を定義\n",
    "def time_3(x):\n",
    "    return 3*x\n",
    "\n",
    "#作った関数を使用\n",
    "t = int(input())\n",
    "print(time_3(t))"
   ]
  },
  {
   "cell_type": "markdown",
   "metadata": {},
   "source": [
    "では実際に問題を解いてみよう。"
   ]
  },
  {
   "cell_type": "code",
   "execution_count": null,
   "metadata": {},
   "outputs": [],
   "source": [
    "# 入力の受け取り。\n",
    "t = int(input())\n",
    "\n",
    "#関数f(x)を定義\n",
    "def f(x):\n",
    "    return x**2 + 2*x + 3\n",
    "\n",
    "#答えを出力\n",
    "print(f(f(f(t)+t)+f(f(t))))"
   ]
  }
 ],
 "metadata": {
  "kernelspec": {
   "display_name": "Python 3",
   "language": "python",
   "name": "python3"
  },
  "language_info": {
   "codemirror_mode": {
    "name": "ipython",
    "version": 3
   },
   "file_extension": ".py",
   "mimetype": "text/x-python",
   "name": "python",
   "nbconvert_exporter": "python",
   "pygments_lexer": "ipython3",
   "version": "3.12.3"
  }
 },
 "nbformat": 4,
 "nbformat_minor": 2
}
