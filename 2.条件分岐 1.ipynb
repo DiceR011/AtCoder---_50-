{
 "cells": [
  {
   "cell_type": "markdown",
   "metadata": {},
   "source": [
    "# 2.条件分岐 1"
   ]
  },
  {
   "cell_type": "markdown",
   "metadata": {},
   "source": [
    "## "
   ]
  },
  {
   "cell_type": "markdown",
   "metadata": {},
   "source": [
    "### ABC219 A Dif:6\n",
    "url : https://atcoder.jp/contests/abc219/tasks/abc219_a\n",
    "\n",
    "#### [概要]  \n",
    "条件分岐によって処理を分岐する「if」をマスターしよう。\n",
    "ifが使えればたいていのA問題は解けます。\n",
    "\n",
    "- 問題文  \n",
    "  AtCoder 王国では、競技プログラミングの実力を測る検定試験が実施されています。\n",
    "\n",
    "  試験は \n",
    "100 点満点であり、点数が高ければ高いほど、高いランクが認定されます。\n",
    "ランクは以下のように定められています。\n",
    "\n",
    "  - 0 点以上 40 点未満のとき、初級\n",
    "  - 40 点以上 70 点未満のとき、中級\n",
    "  - 70 点以上 90 点未満のとき、上級\n",
    "  - 90 点以上のとき、エキスパート\n",
    "  高橋君は、この検定試験を受験し、\n",
    "X 点を取りました。\n",
    "\n",
    "  高橋君が認定されたランクより一つ高いランクとなるためには最低であと何点必要か求めてください。  \n",
    "  ただし、高橋君がエキスパートと認定された場合、それより高いランクは存在しないため expert と出力してください。\n",
    "\n",
    "#### [解説] \n",
    "  以下のように点数の値で条件分岐し、答えを出力する。  \n",
    "  **初級(0点～40点未満) → 40-X**  \n",
    "  **中級(40点～70点未満) → 70-X**  \n",
    "  **上級(70点～90点未満) → 90-X**  \n",
    "  **エキスパート(90点以上) → expert**  \n",
    "  これらをifで分岐させることにより処理する。  \n",
    "\n",
    "  - if文の書き方\n",
    "\n",
    "  ```\n",
    "  if 条件:  \n",
    "    処理内容  \n",
    "  elif 条件:  \n",
    "    処理内容  \n",
    "  else:  \n",
    "    処理内容  \n",
    "  ```\n",
    "\n",
    "  PythonではJavaとは表記法が少し違い、{}を使わずに **:** と **インデント(空白や改行)** でif文を判定しています。表記は簡潔ですが、  \n",
    "  他の言語で慣れている人にとっては少し気持ち悪いかもしれません。\n",
    "\n"
   ]
  },
  {
   "cell_type": "code",
   "execution_count": 4,
   "metadata": {},
   "outputs": [
    {
     "name": "stdout",
     "output_type": "stream",
     "text": [
      "12\n"
     ]
    }
   ],
   "source": [
    "#高橋君の点数Xを入力\n",
    "X = int(input())\n",
    "\n",
    "#入力された点数が0~40未満の場合, 次のランクに必要な点数40-Xを出力\n",
    "if(0 <= X < 40):\n",
    "    print(40-X)\n",
    "\n",
    "#入力された点数が40~70未満の場合, 次のランクに必要な点数70-Xを出力\n",
    "elif(40 <= X < 70):\n",
    "    print(70-X)\n",
    "\n",
    "#入力された点数が70~90未満の場合, 次のランクに必要な点数90-Xを出力\n",
    "elif(70 <= X < 90):\n",
    "    print(90-X)\n",
    "\n",
    "##入力された点数が90以上のエキスパート高橋君の場合、出力'expert'\n",
    "else:\n",
    "    print('expert')"
   ]
  }
 ],
 "metadata": {
  "kernelspec": {
   "display_name": "Python 3",
   "language": "python",
   "name": "python3"
  },
  "language_info": {
   "codemirror_mode": {
    "name": "ipython",
    "version": 3
   },
   "file_extension": ".py",
   "mimetype": "text/x-python",
   "name": "python",
   "nbconvert_exporter": "python",
   "pygments_lexer": "ipython3",
   "version": "3.12.3"
  }
 },
 "nbformat": 4,
 "nbformat_minor": 2
}
